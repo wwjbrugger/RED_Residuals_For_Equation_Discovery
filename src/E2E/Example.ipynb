{
 "cells": [
  {
   "cell_type": "code",
   "execution_count": 1,
   "id": "3bf3ccd4-bd5a-4b9b-896c-fb97393263c9",
   "metadata": {
    "ExecuteTime": {
     "end_time": "2024-08-07T08:01:43.710217110Z",
     "start_time": "2024-08-07T08:01:43.686886346Z"
    }
   },
   "outputs": [
    {
     "ename": "ModuleNotFoundError",
     "evalue": "No module named 'torch'",
     "output_type": "error",
     "traceback": [
      "\u001B[0;31m---------------------------------------------------------------------------\u001B[0m",
      "\u001B[0;31mModuleNotFoundError\u001B[0m                       Traceback (most recent call last)",
      "\u001B[0;32m/tmp/ipykernel_13454/1222753997.py\u001B[0m in \u001B[0;36m<cell line: 1>\u001B[0;34m()\u001B[0m\n\u001B[0;32m----> 1\u001B[0;31m \u001B[0;32mimport\u001B[0m \u001B[0mtorch\u001B[0m\u001B[0;34m\u001B[0m\u001B[0;34m\u001B[0m\u001B[0m\n\u001B[0m\u001B[1;32m      2\u001B[0m \u001B[0;32mimport\u001B[0m \u001B[0mnumpy\u001B[0m \u001B[0;32mas\u001B[0m \u001B[0mnp\u001B[0m\u001B[0;34m\u001B[0m\u001B[0;34m\u001B[0m\u001B[0m\n\u001B[1;32m      3\u001B[0m \u001B[0;32mimport\u001B[0m \u001B[0msympy\u001B[0m \u001B[0;32mas\u001B[0m \u001B[0msp\u001B[0m\u001B[0;34m\u001B[0m\u001B[0;34m\u001B[0m\u001B[0m\n\u001B[1;32m      4\u001B[0m \u001B[0;32mimport\u001B[0m \u001B[0mos\u001B[0m\u001B[0;34m,\u001B[0m \u001B[0msys\u001B[0m\u001B[0;34m\u001B[0m\u001B[0;34m\u001B[0m\u001B[0m\n\u001B[1;32m      5\u001B[0m \u001B[0;32mimport\u001B[0m \u001B[0msymbolicregression\u001B[0m\u001B[0;34m\u001B[0m\u001B[0;34m\u001B[0m\u001B[0m\n",
      "\u001B[0;31mModuleNotFoundError\u001B[0m: No module named 'torch'"
     ]
    }
   ],
   "source": [
    "import torch\n",
    "import numpy as np\n",
    "import sympy as sp\n",
    "import os, sys\n",
    "import symbolicregression\n",
    "import requests\n",
    "from IPython.display import display"
   ]
  },
  {
   "cell_type": "code",
   "execution_count": 2,
   "id": "52a6b685-a1ed-4cb5-975d-f1bd316ec778",
   "metadata": {},
   "outputs": [
    {
     "name": "stdout",
     "output_type": "stream",
     "text": [
      "cuda:0\n",
      "Model successfully loaded!\n"
     ]
    }
   ],
   "source": [
    "model_path = \"model.pt\" \n",
    "try:\n",
    "    if not os.path.isfile(model_path): \n",
    "        url = \"https://dl.fbaipublicfiles.com/symbolicregression/model1.pt\"\n",
    "        r = requests.get(url, allow_redirects=True)\n",
    "        open(model_path, 'wb').write(r.content)\n",
    "    if not torch.cuda.is_available():\n",
    "        model = torch.load(model_path, map_location=torch.device('cpu'))\n",
    "    else:\n",
    "        model = torch.load(model_path)\n",
    "        model = model.cuda()\n",
    "    print(model.device)\n",
    "    print(\"Model successfully loaded!\")\n",
    "\n",
    "except Exception as e:\n",
    "    print(\"ERROR: model not loaded! path was: {}\".format(model_path))\n",
    "    print(e)    "
   ]
  },
  {
   "cell_type": "code",
   "execution_count": 3,
   "id": "cb5ebd8c-235e-4051-87a4-acbafadf937c",
   "metadata": {},
   "outputs": [],
   "source": [
    "est = symbolicregression.model.SymbolicTransformerRegressor(\n",
    "                        model=model,\n",
    "                        max_input_points=200,\n",
    "                        n_trees_to_refine=100,\n",
    "                        rescale=True\n",
    "                        )"
   ]
  },
  {
   "cell_type": "code",
   "execution_count": 4,
   "id": "f539c7ed-29e3-453a-b226-09dfab999fec",
   "metadata": {},
   "outputs": [],
   "source": [
    "##Example of data\n",
    "\n",
    "x = np.random.randn(100, 2)\n",
    "y = np.cos(2*np.pi*x[:,0])+x[:,1]**2\n"
   ]
  },
  {
   "cell_type": "code",
   "execution_count": 5,
   "id": "c699a062-41e6-4747-87ce-1e75a2496b74",
   "metadata": {},
   "outputs": [
    {
     "data": {
      "text/latex": [
       "$\\displaystyle \\left(0.01853679426581665 x_{1} - 0.001264960006558277\\right) \\left(51.62497203029936 x_{1} + 3.5920863817351986\\right) + 0.9800000000000001 \\cos{\\left(6.3434837205966536 x_{0} + 0.300277996019414 \\right)} + 0.01$"
      ],
      "text/plain": [
       "(0.01853679426581665*x_1 - 0.001264960006558277)*(51.62497203029936*x_1 + 3.5920863817351986) + 0.9800000000000001*cos(6.3434837205966536*x_0 + 0.300277996019414) + 0.01"
      ]
     },
     "metadata": {},
     "output_type": "display_data"
    }
   ],
   "source": [
    "est.fit(x,y)\n",
    "replace_ops = {\"add\": \"+\", \"mul\": \"*\", \"sub\": \"-\", \"pow\": \"**\", \"inv\": \"1/\"}\n",
    "model_str = est.retrieve_tree(with_infos=True)[\"relabed_predicted_tree\"].infix()\n",
    "for op,replace_op in replace_ops.items():\n",
    "    model_str = model_str.replace(op,replace_op)\n",
    "display(sp.parse_expr(model_str))"
   ]
  }
 ],
 "metadata": {
  "kernelspec": {
   "display_name": "Python 3",
   "language": "python",
   "name": "python3"
  },
  "language_info": {
   "codemirror_mode": {
    "name": "ipython",
    "version": 3
   },
   "file_extension": ".py",
   "mimetype": "text/x-python",
   "name": "python",
   "nbconvert_exporter": "python",
   "pygments_lexer": "ipython3",
   "version": "3.7.12"
  }
 },
 "nbformat": 4,
 "nbformat_minor": 5
}
